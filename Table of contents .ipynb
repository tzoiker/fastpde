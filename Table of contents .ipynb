{
 "cells": [
  {
   "cell_type": "markdown",
   "metadata": {},
   "source": [
    "# Fast methods for partial differential and integral equations"
   ]
  },
  {
   "cell_type": "markdown",
   "metadata": {},
   "source": [
    "**Course instructors: **\n",
    "Ivan Oseledes, Alexander Shapeev\n",
    "\n",
    "** TAs:**\n",
    "Maxim Rakhuba, Dasha Sushnikova, Evgeny Frolov, Artem Naumov"
   ]
  },
  {
   "cell_type": "markdown",
   "metadata": {},
   "source": [
    "| Week | Classes | Homework | Tests |\n",
    "|------|---------|----------|-------|\n",
    "|1| Day 1: [Formal stuff](PDE_start.ipynb), [Lecture 1](Lecture-1.ipynb), [FEniCS demo](Fenics demo.ipynb) <br> Day 2: [Lecture 2 (Basics of PDEs)](lecture-2.ipynb) <br> Day 3: [Lecture 3 (FDM + FVM)](lecture-3.ipynb)|   [Problem set 1](PS1.ipynb)        | \n",
    "|2| Day 5: [Lecture 4 (FEM. Part 1)](lecture-4.ipynb), [Practice Problem](prePS2.ipynb),    [Mesh guide](Mesh_guide/Mesh.ipynb) <br> Day 6: [Lecture 5 (FEM. Part 2)](lecture-5.ipynb)       |  [Problem set 2](PS2.ipynb) | \n",
    "|3| Day 7: [Lecture 6 (Spectral methods)](Lecture_6_spectral.ipynb)       <br> Day 8: [Lecture 7 (Sparse LU)](lecture-7.ipynb)     <br> Day 9: [Lecture 8 (Multigrid)](lecture-8.ipynb)          |      [Problem set 3](PS3.ipynb)        |\n",
    "|4| Day 10: [Lecture 9 (Basic integral equations)](lecture-9.ipynb) <br> Day 11: [Lecture 10 (Basic integral equations, part 2)](lecture-10.ipynb)|[Problem set 4.1](PS4_part2.ipynb) <br> [DEMCEM in python](https://stellar.mit.edu/S/project/fastpdes/courseMaterial/homework/assignments/assignment5/assignment/2/DEMCEM_ST.zip) | [Mid-term test](http://trendology.ru/wp-content/uploads/2011/11/Trollface_HD.png) \n",
    "|5| Day 12:  [Lecture 11 (Barnes-Hut and FMM)](lecture-11.ipynb)      <br> Day 13: [Lecture 12 (FMM and H-matrices)](lecture-12.ipynb) </br> <br> Day 14: [Lecture 13: (Approximating H-matrices)](lecture-13.ipynb)</br>  |   [Problem set 4.2](PS4_part1.ipynb) |         \n",
    "|6||              | \n",
    "| 7| Ping-pong test \n",
    "| |Final test\n",
    "| | Arrear day | \n",
    "|8| Application period"
   ]
  },
  {
   "cell_type": "code",
   "execution_count": 1,
   "metadata": {
    "collapsed": false
   },
   "outputs": [
    {
     "data": {
      "text/html": [
       "<link href='http://fonts.googleapis.com/css?family=Fenix' rel='stylesheet' type='text/css'>\n",
       "<link href='http://fonts.googleapis.com/css?family=Alegreya+Sans:100,300,400,500,700,800,900,100italic,300italic,400italic,500italic,700italic,800italic,900italic' rel='stylesheet' type='text/css'>\n",
       "<link href='http://fonts.googleapis.com/css?family=Source+Code+Pro:300,400' rel='stylesheet' type='text/css'>\n",
       "<style>\n",
       "    @font-face {\n",
       "        font-family: \"Computer Modern\";\n",
       "        src: url('http://mirrors.ctan.org/fonts/cm-unicode/fonts/otf/cmunss.otf');\n",
       "    }\n",
       "    div.cell{\n",
       "        /*width:80%;*/\n",
       "        /*margin-left:auto !important;\n",
       "        margin-right:auto;*/\n",
       "    }\n",
       "    h1 {\n",
       "        font-family: 'Alegreya Sans', sans-serif;\n",
       "    }\n",
       "    h2 {\n",
       "        font-family: 'Fenix', serif;\n",
       "    }\n",
       "    h3{\n",
       "\t\tfont-family: 'Fenix', serif;\n",
       "        margin-top:12px;\n",
       "        margin-bottom: 3px;\n",
       "       }\n",
       "\th4{\n",
       "\t\tfont-family: 'Fenix', serif;\n",
       "       }\n",
       "    h5 {\n",
       "        font-family: 'Alegreya Sans', sans-serif;\n",
       "    }\t   \n",
       "    div.text_cell_render{\n",
       "        font-family: 'Alegreya Sans',Computer Modern, \"Helvetica Neue\", Arial, Helvetica, Geneva, sans-serif;\n",
       "        line-height: 1.2;\n",
       "        font-size: 160%;\n",
       "        /*width:70%;*/\n",
       "        /*margin-left:auto;*/\n",
       "        margin-right:auto;\n",
       "    }\n",
       "    .CodeMirror{\n",
       "            font-family: \"Source Code Pro\";\n",
       "\t\t\tfont-size: 90%;\n",
       "    }\n",
       "/*    .prompt{\n",
       "        display: None;\n",
       "    }*/\n",
       "    .text_cell_render h1 {\n",
       "        font-weight: 200;\n",
       "        font-size: 50pt;\n",
       "\t\tline-height: 110%;\n",
       "        color:#CD2305;\n",
       "        margin-bottom: 0.5em;\n",
       "        margin-top: 0.5em;\n",
       "        display: block;\n",
       "    }\t\n",
       "    .text_cell_render h5 {\n",
       "        font-weight: 300;\n",
       "        font-size: 16pt;\n",
       "        color: #CD2305;\n",
       "        font-style: italic;\n",
       "        margin-bottom: .5em;\n",
       "        margin-top: 0.5em;\n",
       "        display: block;\n",
       "    }\n",
       "    \n",
       "    li {\n",
       "        line-height: 110%;\n",
       "    }\n",
       "    .warning{\n",
       "        color: rgb( 240, 20, 20 )\n",
       "        }  \n",
       "</style>\n",
       "<script>\n",
       "    MathJax.Hub.Config({\n",
       "                        TeX: {\n",
       "                           extensions: [\"AMSmath.js\"]\n",
       "                           },\n",
       "                tex2jax: {\n",
       "                    inlineMath: [ ['$','$'], [\"\\\\(\",\"\\\\)\"] ],\n",
       "                    displayMath: [ ['$$','$$'], [\"\\\\[\",\"\\\\]\"] ]\n",
       "                },\n",
       "                displayAlign: 'center', // Change this to 'center' to center equations.\n",
       "                \"HTML-CSS\": {\n",
       "                    styles: {'.MathJax_Display': {\"margin\": 4}}\n",
       "                }\n",
       "        });\n",
       "</script>\n"
      ],
      "text/plain": [
       "<IPython.core.display.HTML object>"
      ]
     },
     "execution_count": 1,
     "metadata": {},
     "output_type": "execute_result"
    }
   ],
   "source": [
    "from IPython.core.display import HTML\n",
    "def css_styling():\n",
    "    styles = open(\"./styles/custom.css\", \"r\").read()\n",
    "    return HTML(styles)\n",
    "css_styling()"
   ]
  }
 ],
 "metadata": {
  "kernelspec": {
   "display_name": "Python 2",
   "language": "python",
   "name": "python2"
  },
  "language_info": {
   "codemirror_mode": {
    "name": "ipython",
    "version": 2
   },
   "file_extension": ".py",
   "mimetype": "text/x-python",
   "name": "python",
   "nbconvert_exporter": "python",
   "pygments_lexer": "ipython2",
   "version": "2.7.9"
  }
 },
 "nbformat": 4,
 "nbformat_minor": 0
}
